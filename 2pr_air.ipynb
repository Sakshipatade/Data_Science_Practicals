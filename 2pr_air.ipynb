{
 "cells": [
  {
   "cell_type": "code",
   "execution_count": 1,
   "id": "319f6085-9e1d-452f-abef-e669210c0a8b",
   "metadata": {},
   "outputs": [
    {
     "name": "stderr",
     "output_type": "stream",
     "text": [
      "C:\\Users\\91911\\AppData\\Local\\Temp\\ipykernel_3784\\3567615493.py:4: DtypeWarning: Columns (0) have mixed types. Specify dtype option on import or set low_memory=False.\n",
      "  df = pd.read_csv(\"data.csv\", encoding='ISO-8859-1')\n"
     ]
    },
    {
     "name": "stdout",
     "output_type": "stream",
     "text": [
      "<class 'pandas.core.frame.DataFrame'>\n",
      "RangeIndex: 435742 entries, 0 to 435741\n",
      "Data columns (total 13 columns):\n",
      " #   Column                       Non-Null Count   Dtype  \n",
      "---  ------                       --------------   -----  \n",
      " 0   stn_code                     291665 non-null  object \n",
      " 1   sampling_date                435739 non-null  object \n",
      " 2   state                        435742 non-null  object \n",
      " 3   location                     435739 non-null  object \n",
      " 4   agency                       286261 non-null  object \n",
      " 5   type                         430349 non-null  object \n",
      " 6   so2                          401096 non-null  float64\n",
      " 7   no2                          419509 non-null  float64\n",
      " 8   rspm                         395520 non-null  float64\n",
      " 9   spm                          198355 non-null  float64\n",
      " 10  location_monitoring_station  408251 non-null  object \n",
      " 11  pm2_5                        9314 non-null    float64\n",
      " 12  date                         435735 non-null  object \n",
      "dtypes: float64(5), object(8)\n",
      "memory usage: 43.2+ MB\n",
      "None\n",
      "  stn_code       sampling_date           state   location agency  \\\n",
      "0    150.0  February - M021990  Andhra Pradesh  Hyderabad    NaN   \n",
      "1    151.0  February - M021990  Andhra Pradesh  Hyderabad    NaN   \n",
      "2    152.0  February - M021990  Andhra Pradesh  Hyderabad    NaN   \n",
      "3    150.0     March - M031990  Andhra Pradesh  Hyderabad    NaN   \n",
      "4    151.0     March - M031990  Andhra Pradesh  Hyderabad    NaN   \n",
      "\n",
      "                                 type  so2   no2  rspm  spm  \\\n",
      "0  Residential, Rural and other Areas  4.8  17.4   NaN  NaN   \n",
      "1                     Industrial Area  3.1   7.0   NaN  NaN   \n",
      "2  Residential, Rural and other Areas  6.2  28.5   NaN  NaN   \n",
      "3  Residential, Rural and other Areas  6.3  14.7   NaN  NaN   \n",
      "4                     Industrial Area  4.7   7.5   NaN  NaN   \n",
      "\n",
      "  location_monitoring_station  pm2_5        date  \n",
      "0                         NaN    NaN  1990-02-01  \n",
      "1                         NaN    NaN  1990-02-01  \n",
      "2                         NaN    NaN  1990-02-01  \n",
      "3                         NaN    NaN  1990-03-01  \n",
      "4                         NaN    NaN  1990-03-01  \n"
     ]
    }
   ],
   "source": [
    "import pandas as pd\n",
    "\n",
    "# Load the dataset using ISO-8859-1 encoding\n",
    "df = pd.read_csv(\"data.csv\", encoding='ISO-8859-1')\n",
    "\n",
    "# Display basic info\n",
    "print(df.info())\n",
    "print(df.head())"
   ]
  },
  {
   "cell_type": "code",
   "execution_count": 2,
   "id": "62d35983-99ac-4002-be6d-27bab4375236",
   "metadata": {},
   "outputs": [
    {
     "name": "stderr",
     "output_type": "stream",
     "text": [
      "C:\\Users\\91911\\AppData\\Local\\Temp\\ipykernel_3784\\1691459151.py:6: SettingWithCopyWarning: \n",
      "A value is trying to be set on a copy of a slice from a DataFrame.\n",
      "Try using .loc[row_indexer,col_indexer] = value instead\n",
      "\n",
      "See the caveats in the documentation: https://pandas.pydata.org/pandas-docs/stable/user_guide/indexing.html#returning-a-view-versus-a-copy\n",
      "  df_cleaned[num_cols] = df_cleaned[num_cols].fillna(df_cleaned[num_cols].mean())\n",
      "C:\\Users\\91911\\AppData\\Local\\Temp\\ipykernel_3784\\1691459151.py:11: SettingWithCopyWarning: \n",
      "A value is trying to be set on a copy of a slice from a DataFrame.\n",
      "Try using .loc[row_indexer,col_indexer] = value instead\n",
      "\n",
      "See the caveats in the documentation: https://pandas.pydata.org/pandas-docs/stable/user_guide/indexing.html#returning-a-view-versus-a-copy\n",
      "  df_cleaned[col] = df_cleaned[col].fillna(df_cleaned[col].mode()[0])\n"
     ]
    }
   ],
   "source": [
    "# Drop rows where critical fields are missing\n",
    "df_cleaned = df.dropna(subset=['state', 'location', 'date'])\n",
    "\n",
    "# Fill missing numeric values with the column mean\n",
    "num_cols = ['so2', 'no2', 'rspm', 'spm', 'pm2_5']\n",
    "df_cleaned[num_cols] = df_cleaned[num_cols].fillna(df_cleaned[num_cols].mean())\n",
    "\n",
    "# Fill missing categorical values with the mode\n",
    "cat_cols = ['agency', 'type', 'location_monitoring_station']\n",
    "for col in cat_cols:\n",
    "    df_cleaned[col] = df_cleaned[col].fillna(df_cleaned[col].mode()[0])\n",
    "\n",
    "# Standardize column names\n",
    "df_cleaned.columns = [col.lower().strip().replace(\" \", \"_\") for col in df_cleaned.columns]\n"
   ]
  },
  {
   "cell_type": "code",
   "execution_count": 3,
   "id": "92cb8a9a-e68e-47ef-b0de-08e8c3eaadfd",
   "metadata": {},
   "outputs": [],
   "source": [
    "# Simulate a dataset of state codes\n",
    "state_codes = pd.DataFrame({\n",
    "    'state': df_cleaned['state'].unique(),\n",
    "    'state_code': range(1, len(df_cleaned['state'].unique()) + 1)\n",
    "})\n",
    "\n",
    "# Merge on 'state'\n",
    "df_merged = pd.merge(df_cleaned, state_codes, on='state', how='left')\n"
   ]
  },
  {
   "cell_type": "code",
   "execution_count": 4,
   "id": "18cb72da-80eb-4c7e-b1ca-40e8e525f2c2",
   "metadata": {},
   "outputs": [],
   "source": [
    "# Convert 'date' to datetime\n",
    "df_merged['date'] = pd.to_datetime(df_merged['date'], errors='coerce')\n",
    "\n",
    "# Extract year and month\n",
    "df_merged['year'] = df_merged['date'].dt.year\n",
    "df_merged['month'] = df_merged['date'].dt.month\n",
    "\n",
    "# Create a simplified pollution index\n",
    "df_merged['pollution_index'] = df_merged[['so2', 'no2', 'rspm']].mean(axis=1)\n"
   ]
  },
  {
   "cell_type": "code",
   "execution_count": 5,
   "id": "3c754769-7d60-48a8-b828-0443b552d72f",
   "metadata": {},
   "outputs": [],
   "source": [
    "# Convert negative values to positive in pollution columns\n",
    "for col in ['so2', 'no2', 'rspm', 'spm', 'pm2_5']:\n",
    "    df_merged[col] = df_merged[col].apply(lambda x: abs(x) if pd.notnull(x) else x)\n",
    "\n",
    "# Capitalize the pollution type field for consistency\n",
    "df_merged['type'] = df_merged['type'].str.title()\n"
   ]
  },
  {
   "cell_type": "code",
   "execution_count": null,
   "id": "50fee0c6-4b90-4ca4-92cd-8416e79a3f7b",
   "metadata": {},
   "outputs": [],
   "source": []
  },
  {
   "cell_type": "code",
   "execution_count": 6,
   "id": "08cd20cb-ab51-41c8-8523-1c9a36a82357",
   "metadata": {},
   "outputs": [
    {
     "name": "stdout",
     "output_type": "stream",
     "text": [
      "  stn_code       sampling_date           state   location  \\\n",
      "0    150.0  February - M021990  Andhra Pradesh  Hyderabad   \n",
      "1    151.0  February - M021990  Andhra Pradesh  Hyderabad   \n",
      "2    152.0  February - M021990  Andhra Pradesh  Hyderabad   \n",
      "3    150.0     March - M031990  Andhra Pradesh  Hyderabad   \n",
      "4    151.0     March - M031990  Andhra Pradesh  Hyderabad   \n",
      "5    152.0     March - M031990  Andhra Pradesh  Hyderabad   \n",
      "6    150.0     April - M041990  Andhra Pradesh  Hyderabad   \n",
      "7    151.0     April - M041990  Andhra Pradesh  Hyderabad   \n",
      "8    152.0     April - M041990  Andhra Pradesh  Hyderabad   \n",
      "9    151.0       May - M051990  Andhra Pradesh  Hyderabad   \n",
      "\n",
      "                                      agency  \\\n",
      "0  Maharashtra State Pollution Control Board   \n",
      "1  Maharashtra State Pollution Control Board   \n",
      "2  Maharashtra State Pollution Control Board   \n",
      "3  Maharashtra State Pollution Control Board   \n",
      "4  Maharashtra State Pollution Control Board   \n",
      "5  Maharashtra State Pollution Control Board   \n",
      "6  Maharashtra State Pollution Control Board   \n",
      "7  Maharashtra State Pollution Control Board   \n",
      "8  Maharashtra State Pollution Control Board   \n",
      "9  Maharashtra State Pollution Control Board   \n",
      "\n",
      "                                 type  so2   no2        rspm        spm  \\\n",
      "0  Residential, Rural And Other Areas  4.8  17.4  108.833091  220.78348   \n",
      "1                     Industrial Area  3.1   7.0  108.833091  220.78348   \n",
      "2  Residential, Rural And Other Areas  6.2  28.5  108.833091  220.78348   \n",
      "3  Residential, Rural And Other Areas  6.3  14.7  108.833091  220.78348   \n",
      "4                     Industrial Area  4.7   7.5  108.833091  220.78348   \n",
      "5  Residential, Rural And Other Areas  6.4  25.7  108.833091  220.78348   \n",
      "6  Residential, Rural And Other Areas  5.4  17.1  108.833091  220.78348   \n",
      "7                     Industrial Area  4.7   8.7  108.833091  220.78348   \n",
      "8  Residential, Rural And Other Areas  4.2  23.0  108.833091  220.78348   \n",
      "9                     Industrial Area  4.0   8.9  108.833091  220.78348   \n",
      "\n",
      "  location_monitoring_station      pm2_5       date  state_code  year  month  \\\n",
      "0             Regional Office  40.791467 1990-02-01           1  1990      2   \n",
      "1             Regional Office  40.791467 1990-02-01           1  1990      2   \n",
      "2             Regional Office  40.791467 1990-02-01           1  1990      2   \n",
      "3             Regional Office  40.791467 1990-03-01           1  1990      3   \n",
      "4             Regional Office  40.791467 1990-03-01           1  1990      3   \n",
      "5             Regional Office  40.791467 1990-03-01           1  1990      3   \n",
      "6             Regional Office  40.791467 1990-04-01           1  1990      4   \n",
      "7             Regional Office  40.791467 1990-04-01           1  1990      4   \n",
      "8             Regional Office  40.791467 1990-04-01           1  1990      4   \n",
      "9             Regional Office  40.791467 1990-05-01           1  1990      5   \n",
      "\n",
      "   pollution_index  \n",
      "0        43.677697  \n",
      "1        39.644364  \n",
      "2        47.844364  \n",
      "3        43.277697  \n",
      "4        40.344364  \n",
      "5        46.977697  \n",
      "6        43.777697  \n",
      "7        40.744364  \n",
      "8        45.344364  \n",
      "9        40.577697  \n",
      "        stn_code sampling_date        state  location  \\\n",
      "count   291661.0        435735       435735    435735   \n",
      "unique     803.0          5482           34       304   \n",
      "top        193.0      19-03-15  Maharashtra  Guwahati   \n",
      "freq      1428.0           253        60382      9984   \n",
      "mean         NaN           NaN          NaN       NaN   \n",
      "min          NaN           NaN          NaN       NaN   \n",
      "25%          NaN           NaN          NaN       NaN   \n",
      "50%          NaN           NaN          NaN       NaN   \n",
      "75%          NaN           NaN          NaN       NaN   \n",
      "max          NaN           NaN          NaN       NaN   \n",
      "std          NaN           NaN          NaN       NaN   \n",
      "\n",
      "                                           agency  \\\n",
      "count                                      435735   \n",
      "unique                                         64   \n",
      "top     Maharashtra State Pollution Control Board   \n",
      "freq                                       177333   \n",
      "mean                                          NaN   \n",
      "min                                           NaN   \n",
      "25%                                           NaN   \n",
      "50%                                           NaN   \n",
      "75%                                           NaN   \n",
      "max                                           NaN   \n",
      "std                                           NaN   \n",
      "\n",
      "                                      type            so2            no2  \\\n",
      "count                               435735  435735.000000  435735.000000   \n",
      "unique                                  10            NaN            NaN   \n",
      "top     Residential, Rural And Other Areas            NaN            NaN   \n",
      "freq                                184403            NaN            NaN   \n",
      "mean                                   NaN      10.829428      25.809659   \n",
      "min                                    NaN       0.000000       0.000000   \n",
      "25%                                    NaN       5.000000      14.000000   \n",
      "50%                                    NaN       9.000000      22.300000   \n",
      "75%                                    NaN      13.000000      32.000000   \n",
      "max                                    NaN     909.000000     876.000000   \n",
      "std                                    NaN      10.723716      18.155263   \n",
      "\n",
      "                 rspm           spm location_monitoring_station  \\\n",
      "count   435735.000000  435735.00000                      435735   \n",
      "unique            NaN           NaN                         991   \n",
      "top               NaN           NaN             Regional Office   \n",
      "freq              NaN           NaN                       33749   \n",
      "mean       108.833091     220.78348                         NaN   \n",
      "min          0.000000       0.00000                         NaN   \n",
      "25%         59.000000     203.00000                         NaN   \n",
      "50%         97.666667     220.78348                         NaN   \n",
      "75%        135.000000     220.78348                         NaN   \n",
      "max       6307.033333    3380.00000                         NaN   \n",
      "std         71.333594     102.14629                         NaN   \n",
      "\n",
      "                pm2_5                           date     state_code  \\\n",
      "count   435735.000000                         435735  435735.000000   \n",
      "unique            NaN                            NaN            NaN   \n",
      "top               NaN                            NaN            NaN   \n",
      "freq              NaN                            NaN            NaN   \n",
      "mean        40.791467  2010-01-11 07:22:01.301249024      18.966833   \n",
      "min          3.000000            1987-01-01 00:00:00       1.000000   \n",
      "25%         40.791467            2007-07-03 00:00:00      13.000000   \n",
      "50%         40.791467            2010-11-12 00:00:00      19.000000   \n",
      "75%         40.791467            2013-09-07 12:00:00      27.000000   \n",
      "max        504.000000            2015-12-31 00:00:00      34.000000   \n",
      "std          4.507577                            NaN       9.471742   \n",
      "\n",
      "                 year          month  pollution_index  \n",
      "count   435735.000000  435735.000000    435735.000000  \n",
      "unique            NaN            NaN              NaN  \n",
      "top               NaN            NaN              NaN  \n",
      "freq              NaN            NaN              NaN  \n",
      "mean      2009.534123       6.503749        48.490726  \n",
      "min       1987.000000       1.000000         0.000000  \n",
      "25%       2007.000000       4.000000        29.333333  \n",
      "50%       2010.000000       6.000000        43.333333  \n",
      "75%       2013.000000      10.000000        60.333333  \n",
      "max       2015.000000      12.000000      2116.675000  \n",
      "std          4.791559       3.440817        27.403423  \n",
      "stn_code                       144074\n",
      "sampling_date                       0\n",
      "state                               0\n",
      "location                            0\n",
      "agency                              0\n",
      "type                                0\n",
      "so2                                 0\n",
      "no2                                 0\n",
      "rspm                                0\n",
      "spm                                 0\n",
      "location_monitoring_station         0\n",
      "pm2_5                               0\n",
      "date                                0\n",
      "state_code                          0\n",
      "year                                0\n",
      "month                               0\n",
      "pollution_index                     0\n",
      "dtype: int64\n"
     ]
    }
   ],
   "source": [
    "# View the first 10 rows of the final dataset\n",
    "print(df_merged.head(10))\n",
    "\n",
    "# Check summary statistics\n",
    "print(df_merged.describe(include='all'))\n",
    "\n",
    "# Check if there are still any missing values\n",
    "print(df_merged.isnull().sum())\n"
   ]
  },
  {
   "cell_type": "code",
   "execution_count": 7,
   "id": "6596b097-fc41-4716-b06f-bc5f67e9a263",
   "metadata": {},
   "outputs": [
    {
     "name": "stdout",
     "output_type": "stream",
     "text": [
      "Original shape: (435742, 13)\n",
      "Final shape after cleaning: (435735, 17)\n",
      "Original columns: ['stn_code', 'sampling_date', 'state', 'location', 'agency', 'type', 'so2', 'no2', 'rspm', 'spm', 'location_monitoring_station', 'pm2_5', 'date']\n",
      "Final columns: ['stn_code', 'sampling_date', 'state', 'location', 'agency', 'type', 'so2', 'no2', 'rspm', 'spm', 'location_monitoring_station', 'pm2_5', 'date', 'state_code', 'year', 'month', 'pollution_index']\n"
     ]
    }
   ],
   "source": [
    "# Check original vs final shape\n",
    "print(\"Original shape:\", df.shape)\n",
    "print(\"Final shape after cleaning:\", df_merged.shape)\n",
    "\n",
    "# Compare columns\n",
    "print(\"Original columns:\", df.columns.tolist())\n",
    "print(\"Final columns:\", df_merged.columns.tolist())\n"
   ]
  },
  {
   "cell_type": "code",
   "execution_count": 8,
   "id": "48c391fb-b95a-4196-8355-f2af40f3142b",
   "metadata": {},
   "outputs": [],
   "source": [
    "df_merged.to_csv(\"cleaned_air_quality_data.csv\", index=False)\n"
   ]
  },
  {
   "cell_type": "code",
   "execution_count": 9,
   "id": "ba6d5f8d-7106-4a24-87a5-8dab59d256ce",
   "metadata": {},
   "outputs": [
    {
     "data": {
      "text/plain": [
       "<Axes: title={'center': 'Average Pollution Index by Year'}, xlabel='year'>"
      ]
     },
     "execution_count": 9,
     "metadata": {},
     "output_type": "execute_result"
    },
    {
     "data": {
      "image/png": "[encoded data removed]",
      "text/plain": [
       "<Figure size 640x480 with 1 Axes>"
      ]
     },
     "metadata": {},
     "output_type": "display_data"
    }
   ],
   "source": [
    "df_merged.groupby(\"year\")[\"pollution_index\"].mean().plot(kind='bar', title=\"Average Pollution Index by Year\")\n"
   ]
  },
  {
   "cell_type": "code",
   "execution_count": null,
   "id": "79266720-19b2-48ac-aaf1-832cc924d4b7",
   "metadata": {},
   "outputs": [],
   "source": []
  }
 ],
 "metadata": {
  "kernelspec": {
   "display_name": "Python 3 (ipykernel)",
   "language": "python",
   "name": "python3"
  },
  "language_info": {
   "codemirror_mode": {
    "name": "ipython",
    "version": 3
   },
   "file_extension": ".py",
   "mimetype": "text/x-python",
   "name": "python",
   "nbconvert_exporter": "python",
   "pygments_lexer": "ipython3",
   "version": "3.12.4"
  }
 },
 "nbformat": 4,
 "nbformat_minor": 5
}
