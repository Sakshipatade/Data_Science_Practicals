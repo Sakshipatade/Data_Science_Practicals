{
 "cells": [
  {
   "cell_type": "code",
   "execution_count": null,
   "id": "2143519a-65d5-4157-92a8-ac3cc8a52bdf",
   "metadata": {},
   "outputs": [],
   "source": [
    "#import\n",
    "import pandas as pd\n",
    "import seaborn as sns\n",
    "import matplotlib.pyplot as plt\n",
    "\n",
    "df = pd.read_csv('tips_DV.csv')\n",
    "df.rename(columns={'size': 'peoples'}, inplace=True)\n",
    "print(df.isna().sum())\n",
    "\n",
    "for col in ['peoples', 'sex', 'smoker', 'day', 'time']:\n",
    "    print(col, df[col].unique())\n",
    "\n",
    "sns.heatmap(df.corr(), annot=True, cmap='coolwarm')\n",
    "plt.show()\n",
    "\n",
    "sns.pairplot(df)\n",
    "plt.show()\n",
    "\n",
    "sns.lineplot(data=df, x='total_bill', y='tip')\n",
    "plt.show()\n",
    "\n",
    "sns.boxplot(data=df, x='day', y='total_bill')\n",
    "plt.show()\n",
    "\n",
    "sns.histplot(data=df, x='total_bill', hue='time', kde=True)\n",
    "plt.show()\n",
    "\n",
    "sns.scatterplot(data=df, x='total_bill', y='tip', hue='smoker')\n",
    "plt.show()\n",
    "\n",
    "sns.violinplot(data=df, x='day', y='tip')\n",
    "plt.show()"
   ]
  }
 ],
 "metadata": {
  "kernelspec": {
   "display_name": "Python 3 (ipykernel)",
   "language": "python",
   "name": "python3"
  },
  "language_info": {
   "codemirror_mode": {
    "name": "ipython",
    "version": 3
   },
   "file_extension": ".py",
   "mimetype": "text/x-python",
   "name": "python",
   "nbconvert_exporter": "python",
   "pygments_lexer": "ipython3",
   "version": "3.12.4"
  }
 },
 "nbformat": 4,
 "nbformat_minor": 5
}
